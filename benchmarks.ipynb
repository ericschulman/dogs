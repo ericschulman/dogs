{
 "cells": [
  {
   "cell_type": "code",
   "execution_count": 11,
   "metadata": {},
   "outputs": [],
   "source": [
    "import pandas as pd\n",
    "import numpy as np\n",
    "from sklearn import ensemble, preprocessing\n",
    "import xgboost as xgb\n",
    "import statsmodels.api as sm\n",
    "import statsmodels.formula.api as smf\n",
    "import matplotlib.pyplot as plt"
   ]
  },
  {
   "cell_type": "code",
   "execution_count": 12,
   "metadata": {},
   "outputs": [],
   "source": [
    "# load training and test datasets\n",
    "train_raw = pd.read_csv('input/train_set.csv', parse_dates=[2,])\n",
    "test_raw = pd.read_csv('input/test_set.csv', parse_dates=[3,])"
   ]
  },
  {
   "cell_type": "code",
   "execution_count": 35,
   "metadata": {},
   "outputs": [
    {
     "name": "stdout",
     "output_type": "stream",
     "text": [
      "{'annual_usage': 0, 'min_order_quantity': 0, 'bracket_pricing': 'Yes', 'quantity': 250, 'year': 2013, 'supplier': 'S-0066'}\n",
      "2.99905966403855\n"
     ]
    }
   ],
   "source": [
    "#set up a data for ols\n",
    "ols_data = train_raw.copy()\n",
    "ols_data['year'] = train_raw.quote_date.dt.year\n",
    "\n",
    "#set up a point to test\n",
    "index = 7\n",
    "point = dict(ols_data[['annual_usage','min_order_quantity', 'bracket_pricing',\n",
    "                       'quantity','year','supplier']].loc[index])\n",
    "\n",
    "\n",
    "print(point)\n",
    "print(ols_data['cost'].loc[index])"
   ]
  },
  {
   "cell_type": "code",
   "execution_count": 68,
   "metadata": {},
   "outputs": [
    {
     "name": "stdout",
     "output_type": "stream",
     "text": [
      "RMSE: 235.18554687853967, R2: 0.13593217758830634, params: 61\n",
      "quantity coeff -0.05821136351386409\n",
      "AIC: 284215.8746188102\n",
      "nobs > 100: 2385 mean error: 4.109373225428738\n"
     ]
    },
    {
     "data": {
      "image/png": "[encoded data removed]",
      "text/plain": [
       "<Figure size 432x288 with 1 Axes>"
      ]
     },
     "metadata": {
      "needs_background": "light"
     },
     "output_type": "display_data"
    }
   ],
   "source": [
    "def print_model_summary(model, data, log=False):\n",
    "    print('RMSE: %s, R2: %s, params: %s'%(model.mse_model**.5, model.rsquared, model.params.shape[0]-1))\n",
    "    if not log:\n",
    "        print('quantity coeff %s'%model.params['quantity'])\n",
    "    else:\n",
    "        print('quantity coeff %s'%model.params['np.log(quantity)'])\n",
    "    print('AIC: %s'% model.aic)\n",
    "    quantity = np.concatenate(([data['quantity']],[model.resid]),axis=0)\n",
    "    quantity = quantity.transpose()\n",
    "    quantity = quantity[ (quantity[:,0] > 100) ]\n",
    "    print('nobs > 100:', quantity.shape[0], 'mean error:', quantity[:,1].mean())\n",
    "    plt.scatter(quantity[:,0], quantity[:,1])\n",
    "        \n",
    "\n",
    "\n",
    "#regular model\n",
    "baseline_ols = smf.ols('cost ~  1 + quantity + annual_usage + min_order_quantity + bracket_pricing + \\\n",
    "                       year + supplier', data = ols_data)\n",
    "baseline_fit = baseline_ols.fit()\n",
    "\n",
    "#summarize\n",
    "print_model_summary(baseline_fit, ols_data)"
   ]
  },
  {
   "cell_type": "code",
   "execution_count": 69,
   "metadata": {},
   "outputs": [
    {
     "name": "stdout",
     "output_type": "stream",
     "text": [
      "RMSE: 14.044690349091029, R2: 0.4663250744329087, params: 61\n",
      "quantity coeff -0.3506106311382903\n",
      "AIC: 62124.58394707255\n",
      "nobs > 100: 2385 mean error: 0.3040550283837025\n"
     ]
    },
    {
     "data": {
      "image/png": "[encoded data removed]",
      "text/plain": [
       "<Figure size 432x288 with 1 Axes>"
      ]
     },
     "metadata": {
      "needs_background": "light"
     },
     "output_type": "display_data"
    }
   ],
   "source": [
    "#log model\n",
    "logs_ols = smf.ols('np.log(cost) ~ 1 + np.log(quantity) + annual_usage +  min_order_quantity + bracket_pricing  + \\\n",
    "+ year + supplier', data = ols_data)\n",
    "logs_fit = logs_ols.fit()\n",
    "\n",
    "#summarize\n",
    "print_model_summary(logs_fit, ols_data, log=True)"
   ]
  },
  {
   "cell_type": "code",
   "execution_count": 70,
   "metadata": {},
   "outputs": [
    {
     "name": "stdout",
     "output_type": "stream",
     "text": [
      "RMSE: 11.760802157991938, R2: 0.4931696160353297, params: 117\n",
      "quantity coeff -0.23038955723491156\n",
      "AIC: 60627.275887895616\n",
      "nobs > 100: 2385 mean error: 0.34668904871967526\n",
      "<F test: F=array([[87.01626171]]), p=0.0, df_denom=30120, df_num=60>\n"
     ]
    },
    {
     "name": "stderr",
     "output_type": "stream",
     "text": [
      "/home/erichschulman/anaconda3/lib/python3.7/site-packages/statsmodels/base/model.py:1532: ValueWarning: covariance of constraints does not have full rank. The number of constraints is 61, but rank is 60\n",
      "  'rank is %d' % (J, J_), ValueWarning)\n"
     ]
    },
    {
     "data": {
      "image/png": "[encoded data removed]",
      "text/plain": [
       "<Figure size 432x288 with 1 Axes>"
      ]
     },
     "metadata": {
      "needs_background": "light"
     },
     "output_type": "display_data"
    }
   ],
   "source": [
    "squaredterm_ols = smf.ols('np.log(cost) ~  1 + np.log(quantity) + annual_usage +  min_order_quantity + bracket_pricing  + \\\n",
    "                        supplier + year + supplier*np.log(quantity) ', data = ols_data)\n",
    "squaredterm_fit = squaredterm_ols.fit()\n",
    "\n",
    "#summarize\n",
    "print_model_summary(squaredterm_fit,ols_data, log=True )\n",
    "\n",
    "#run an f-test (might be wrong?)\n",
    "base_params = len(baseline_fit.params)\n",
    "restrict = len(squaredterm_fit.params)\n",
    "\n",
    "A = np.identity(restrict)\n",
    "A = A[:base_params-1,:]\n",
    "print(squaredterm_fit.f_test(A))"
   ]
  },
  {
   "cell_type": "code",
   "execution_count": 71,
   "metadata": {},
   "outputs": [],
   "source": [
    "def print_tree_stats(model, data, labels, log=False):\n",
    "    #set up point\n",
    "    xgdata = xgb.DMatrix(data.copy(), label=labels)\n",
    "    mse = ( ( xgdata.get_label() - model.predict(xgdata) )**2).sum()\n",
    "    r2 = 1 - mse/(( xgdata.get_label() - xgdata.get_label().mean() )**2).sum()\n",
    "    dim = data.shape[1]\n",
    "    \n",
    "    print('RMSE: %s, R2: %s, params: %s'%(mse**.5,r2,dim))\n",
    "\n",
    "    \n",
    "#setup baseline tree data\n",
    "tree_data = ols_data.copy()[['annual_usage', 'min_order_quantity','bracket_pricing','quantity','year']]\n",
    "tree_data['bracket_pricing'] = (tree_data['bracket_pricing'] == 'Yes')\n",
    "\n",
    "#supplier dummies\n",
    "supplier_dum = pd.get_dummies(ols_data['supplier'], drop_first=True)\n",
    "tree_data = np.concatenate((tree_data,supplier_dum),axis=1)\n",
    "\n",
    "#labels\n",
    "labels = np.array(ols_data['cost'])"
   ]
  },
  {
   "cell_type": "code",
   "execution_count": 73,
   "metadata": {},
   "outputs": [
    {
     "name": "stdout",
     "output_type": "stream",
     "text": [
      "RMSE: 2697.3765958797817, R2: 0.7068740129470825, params: 61\n"
     ]
    }
   ],
   "source": [
    "# fit a random forest model\n",
    "params = {}\n",
    "params[\"objective\"] = \"reg:linear\"\n",
    "params[\"eta\"] = 0.1\n",
    "params[\"min_child_weight\"] = 5\n",
    "params[\"subsample\"] = 1.0\n",
    "params[\"scale_pos_weight\"] = 1.0\n",
    "params[\"silent\"] = 1\n",
    "params[\"max_depth\"] = 7\n",
    "plst = list(params.items())\n",
    "num_rounds = 120\n",
    "\n",
    "\n",
    "xgtrain = xgb.DMatrix(tree_data, label=labels)\n",
    "xgmodel = xgb.train(plst, xgtrain, num_rounds)\n",
    "print_tree_stats(xgmodel,tree_data, labels)"
   ]
  },
  {
   "cell_type": "code",
   "execution_count": 85,
   "metadata": {},
   "outputs": [
    {
     "name": "stdout",
     "output_type": "stream",
     "text": [
      "RMSE: 2697.3765958797817, R2: 0.7068740129470825, params: 61\n",
      "nobs > 100: 2385 mean error: 0.09346090003084588\n"
     ]
    },
    {
     "data": {
      "image/png": "[encoded data removed]",
      "text/plain": [
       "<Figure size 432x288 with 1 Axes>"
      ]
     },
     "metadata": {
      "needs_background": "light"
     },
     "output_type": "display_data"
    }
   ],
   "source": [
    "def print_tree_stats(model, data, labels, log=False):\n",
    "    #set up point\n",
    "    xgdata = xgb.DMatrix(data.copy(), label=labels)\n",
    "    fitted_y = model.predict(xgdata)\n",
    "    mse = ( ( xgdata.get_label() - fitted_y )**2).sum()\n",
    "    r2 = 1 - mse/(( xgdata.get_label() - xgdata.get_label().mean() )**2).sum()\n",
    "    dim = data.shape[1]\n",
    "    print('RMSE: %s, R2: %s, params: %s'%(mse**.5,r2,dim))\n",
    "    \n",
    "    quantity =  np.array(data[:,3],dtype=np.float32)\n",
    "    if log is not False:\n",
    "        quantity = np.exp(quantity)\n",
    "    quantity = np.concatenate(([quantity] ,[fitted_y-labels]),axis=0)\n",
    "    quantity = quantity.transpose()\n",
    "    quantity = quantity[ (quantity[:,0] > 100) ]\n",
    "    print('nobs > 100:', quantity.shape[0], 'mean error:', quantity[:,1].mean())\n",
    "    plt.scatter(quantity[:,0], quantity[:,1])\n",
    "    \n",
    "    \n",
    "\n",
    "print_tree_stats(xgmodel,tree_data, labels)"
   ]
  },
  {
   "cell_type": "code",
   "execution_count": 86,
   "metadata": {},
   "outputs": [
    {
     "name": "stdout",
     "output_type": "stream",
     "text": [
      "RMSE: 73.61499825952589, R2: 0.7899768501520157, params: 61\n",
      "nobs > 100: 4737 mean error: 0.0028785242487456204\n"
     ]
    },
    {
     "data": {
      "image/png": "[encoded data removed]",
      "text/plain": [
       "<Figure size 432x288 with 1 Axes>"
      ]
     },
     "metadata": {
      "needs_background": "light"
     },
     "output_type": "display_data"
    }
   ],
   "source": [
    "log_quant = np.array(tree_data[:,3],dtype=np.float32)\n",
    "log_quant = np.log(log_quant)\n",
    "log_tree_data = tree_data.copy()\n",
    "log_tree_data[:,3] = log_quant\n",
    "\n",
    "log_labels = np.log(labels)\n",
    "log_xgtrain = xgb.DMatrix(log_tree_data, label=log_labels)\n",
    "\n",
    "\n",
    "log_xgmodel = xgb.train(plst, log_xgtrain , num_rounds)\n",
    "print_tree_stats(log_xgmodel,log_tree_data,log_labels,log=True)"
   ]
  },
  {
   "cell_type": "code",
   "execution_count": null,
   "metadata": {},
   "outputs": [],
   "source": []
  }
 ],
 "metadata": {
  "kernelspec": {
   "display_name": "Python 3",
   "language": "python",
   "name": "python3"
  },
  "language_info": {
   "codemirror_mode": {
    "name": "ipython",
    "version": 3
   },
   "file_extension": ".py",
   "mimetype": "text/x-python",
   "name": "python",
   "nbconvert_exporter": "python",
   "pygments_lexer": "ipython3",
   "version": "3.7.3"
  }
 },
 "nbformat": 4,
 "nbformat_minor": 2
}
